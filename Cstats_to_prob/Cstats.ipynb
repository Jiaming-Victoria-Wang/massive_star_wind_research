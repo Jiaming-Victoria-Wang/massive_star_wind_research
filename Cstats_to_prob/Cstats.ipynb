{
 "cells": [
  {
   "cell_type": "markdown",
   "metadata": {},
   "source": [
    "importing libraries"
   ]
  },
  {
   "cell_type": "code",
   "execution_count": 30,
   "metadata": {},
   "outputs": [],
   "source": [
    "import numpy as np\n",
    "import matplotlib.pyplot as plt\n",
    "from scipy import interpolate"
   ]
  },
  {
   "cell_type": "markdown",
   "metadata": {},
   "source": [
    "specifying Times New Roman font and to force that withing plotting commands"
   ]
  },
  {
   "cell_type": "code",
   "execution_count": 31,
   "metadata": {},
   "outputs": [],
   "source": [
    "tnr = \"Times New Roman\"\n",
    "plt.rcParams['font.sans-serif'] = tnr\n",
    "plt.rcParams['font.family'] = tnr\n",
    "params ={'mathtext.default':'regular'}          \n",
    "plt.rcParams.update(params)"
   ]
  },
  {
   "cell_type": "markdown",
   "metadata": {},
   "source": [
    "uploading input files"
   ]
  },
  {
   "cell_type": "code",
   "execution_count": 32,
   "metadata": {},
   "outputs": [],
   "source": [
    "ObsID = 'cycle19'\n",
    "file = 'Fe XVII_15.01'\n",
    "wavelength = '15.014'\n",
    "data = np.genfromtxt(file.replace(\" \", \"\")+'_Cstats.txt')\n",
    "\n",
    "#data = np.genfromtxt('0095810401_6T_CNONe_5-37_HEII_xspec.txt')"
   ]
  },
  {
   "cell_type": "markdown",
   "metadata": {},
   "source": [
    "makes a user's choice to plot u0 or tau\n",
    "\n",
    "if plotting u0 or R0, type 0\n",
    "\n",
    "if plotting tau, type 1"
   ]
  },
  {
   "cell_type": "code",
   "execution_count": 33,
   "metadata": {},
   "outputs": [],
   "source": [
    "userinput1 = 1\n",
    "assert(userinput1 == 0 or userinput1 == 1)"
   ]
  },
  {
   "cell_type": "markdown",
   "metadata": {},
   "source": [
    "if userinput1 = 0, makes another user's choice to plot u0 or R0\n",
    "\n",
    "if plotting u0, type 0\n",
    "\n",
    "if plotting R0, type 1"
   ]
  },
  {
   "cell_type": "code",
   "execution_count": 34,
   "metadata": {},
   "outputs": [],
   "source": [
    "userinput2 = 0\n",
    "assert(userinput2 == 0 or userinput2 == 1)"
   ]
  },
  {
   "cell_type": "code",
   "execution_count": 35,
   "metadata": {},
   "outputs": [],
   "source": [
    "def CtoP(Cstats):\n",
    "    \"\"\"takes a list of Cstatistics, convert each element to probability ane returns a list\"\"\"\n",
    "    scaling_factor = 0\n",
    "    while np.exp(-(Cstats[0]-scaling_factor)/2) == 0.0:\n",
    "        scaling_factor += 3000\n",
    "    P = []\n",
    "    for i in Cstats:\n",
    "        P.append(np.exp(-(i-scaling_factor)/2))\n",
    "    return P\n",
    "\n",
    "def reduceList(l):\n",
    "    \"\"\"takes a list and reduce it so that each number of the list only appears once, returns a list\"\"\"\n",
    "    newl = []\n",
    "    for i in range(len(l)):\n",
    "        if l[i] not in newl:\n",
    "            newl.append(l[i])\n",
    "    return newl\n",
    "\n",
    "def findBin(l):\n",
    "    \"\"\"takes a list l and calculate the half bin width of each element in the list, returns a list with twice the size\"\"\"\n",
    "    binlist = []\n",
    "    for i in range(len(l)-1):\n",
    "        binvalue = (l[i+1]-l[i])/2\n",
    "        binlist.append(binvalue)\n",
    "        binlist.append(binvalue)\n",
    "    binlist.insert(0, binlist[0])\n",
    "    binlist.append(binlist[-1])\n",
    "    return binlist\n",
    "\n",
    "def listofSums(prob, list1, bin1, list2, bin2):\n",
    "    \"\"\"takes three lists, sums up the product of prob and bin2 for every identical element in list1, returns a list of sums\"\"\"\n",
    "    \"\"\"also returns the total probability as a number\"\"\"\n",
    "    assert(len(prob) == len(list1))\n",
    "    assert(len(list1) == len(list2))\n",
    "    assert(len(bin2) == 2*len(reduceList(list2)))\n",
    "    reducelist1 = reduceList(list1)\n",
    "    reducelist2 = reduceList(list2)\n",
    "    listlen = len(reducelist1)\n",
    "    returnlist = [0]*listlen\n",
    "    for i in range(len(list1)):\n",
    "        reducelist2index = reducelist2.index(list2[i])\n",
    "        binrange = bin2[reducelist2index*2]+bin2[reducelist2index*2+1]\n",
    "        localprob = prob[i]*binrange\n",
    "        for j in range(listlen):\n",
    "            if list1[i] == reducelist1[j]:\n",
    "                returnlist[j] += localprob\n",
    "    Psum = 0\n",
    "    for i in range(len(returnlist)):\n",
    "        localprob = returnlist[i]*(bin1[i*2]+bin1[i*2+1])\n",
    "        Psum += localprob\n",
    "    return returnlist, Psum\n",
    "\n",
    "def normalizeList(l, s):\n",
    "    \"\"\"normalizes elements in a list by a number s and returns the normalized list\"\"\"\n",
    "    returnlist = []\n",
    "    for i in l:\n",
    "        returnlist.append(i/s)\n",
    "    return returnlist\n",
    "\n",
    "def Pu0toPR0(Pu0, u0):\n",
    "    \"\"\"convert Pu0 to PR0\"\"\"\n",
    "    returnlist = []\n",
    "    for i in range(len(Pu0)):\n",
    "        returnlist.append(Pu0[i]*(u0[i]**2))\n",
    "    return returnlist\n",
    "\n",
    "def makeHist(x, xbin, y):\n",
    "    \"\"\"takes three lists and plots a histogram\"\"\"\n",
    "    assert(len(x) == len(y))\n",
    "    assert(2*len(x) == len(xbin))\n",
    "    xvalues = []\n",
    "    yvalues = []\n",
    "    for i in range(len(x)):\n",
    "        xvalues.append(x[i]-xbin[i*2])\n",
    "        xvalues.append(x[i]+xbin[i*2])\n",
    "        yvalues.append(y[i])\n",
    "        yvalues.append(y[i])\n",
    "    return xvalues, yvalues"
   ]
  },
  {
   "cell_type": "code",
   "execution_count": 62,
   "metadata": {},
   "outputs": [],
   "source": [
    "def plotHist(x, y):\n",
    "    \"\"\"takes two lists of values and plots in the designed format\"\"\"\n",
    "    plt.figure(figsize = (10, 8))\n",
    "    if userinput1 == 0:\n",
    "        if userinput2 == 0:\n",
    "            xlabel = r'$u_0$'\n",
    "            xfile = 'u0'\n",
    "            x = x[:-1]\n",
    "            y = y[:-1]\n",
    "        elif userinput2 == 1:\n",
    "            xlabel = r'$R_0$'\n",
    "            xfile = 'R0'\n",
    "            x = x[:-1]\n",
    "            y = y[:-1]\n",
    "    elif userinput1 == 1:\n",
    "        xlabel = r'$\\tau_\\ast$'\n",
    "        xfile = 'tau'\n",
    "    maxindex = y.index(max(y))\n",
    "    assert(y[maxindex] == y[maxindex+1])\n",
    "    xmax = x[maxindex] + (x[maxindex+1]-x[maxindex])/2\n",
    "    plt.xlabel(xlabel, fontsize = 27.5)\n",
    "    #plt.ylabel(r'$P$ %s' % xlabel, fontsize = 27.5)\n",
    "    plt.ylabel(r'$P_{\\tau_\\ast}$', fontsize = 27.5)\n",
    "    plt.xticks(fontsize = 25)\n",
    "    plt.yticks(fontsize = 25)\n",
    "    plt.locator_params(nbins=6)\n",
    "    if np.max(x) > 50: # for u0 going to 0.01\n",
    "        plt.xlim(right = 10)\n",
    "    plt.plot(x, y, color = 'k', linewidth = 2)\n",
    "    #plt.figtext(0.15,0.83, 'ObsID: '+str(ObsID), fontsize = 23)\n",
    "    #plt.figtext(0.15,0.75, r'$\\lambda$ = '+wavelength+' Å ,  '+file.split(\"_\")[0], fontsize = 23)\n",
    "    #plt.figtext(0.15,0.67, r'max %s = %.2f' % (xlabel, xmax), fontsize = 23)\n",
    "    plt.savefig(file.replace(\" \", \"\")+'_Cstats_'+xfile+'_640.png', bbox_inches = 'tight')\n",
    "    plt.show()\n",
    "    \n",
    "def writeProb(x, y):\n",
    "    \"\"\"takes two lists and writes them into a txt file\"\"\"\n",
    "    if userinput1 == 0:\n",
    "        if userinput2 == 0:\n",
    "            xfile = 'u0'\n",
    "        elif userinput2 == 1:\n",
    "            xfile = 'R0'\n",
    "    elif userinput1 == 1:\n",
    "        xfile = 'tau'\n",
    "    txt = open (file.replace(\" \", \"\")+'_Cstats_'+xfile+'.txt', 'w')\n",
    "    for i in range(len(x)):\n",
    "        txt.write(str(x[i])+' '+str(y[i])+'\\n')"
   ]
  },
  {
   "cell_type": "code",
   "execution_count": 63,
   "metadata": {
    "scrolled": false
   },
   "outputs": [
    {
     "data": {
      "image/png": "[encoded data removed]",
      "text/plain": [
       "<Figure size 720x576 with 1 Axes>"
      ]
     },
     "metadata": {
      "needs_background": "light"
     },
     "output_type": "display_data"
    }
   ],
   "source": [
    "P = CtoP(data[:, 0])\n",
    "taudata = data[:, 1]\n",
    "u0data = data[:, 2]\n",
    "R0data = 1/u0data\n",
    "\n",
    "tau = reduceList(taudata)\n",
    "taubin = findBin(tau)\n",
    "u0 = reduceList(u0data)\n",
    "u0bin = findBin(u0)\n",
    "R0 = reduceList(R0data)\n",
    "R0bin = findBin(R0)\n",
    "\n",
    "Psum = listofSums(P, u0data, u0bin, taudata, taubin)[1]\n",
    "assert(((listofSums(P, u0data, u0bin, taudata, taubin)[1]/listofSums(P, taudata, taubin, u0data, u0bin)[1])-1) <= 1.e-5)\n",
    "Ptau_beforenormalized = listofSums(P, taudata, taubin, u0data, u0bin)[0]\n",
    "Ptau = normalizeList(Ptau_beforenormalized, Psum)\n",
    "\n",
    "Pu0_beforenormalized = listofSums(P, u0data, u0bin, taudata, taubin)[0]\n",
    "Pu0 = normalizeList(Pu0_beforenormalized, Psum)\n",
    "PR0 = Pu0toPR0(Pu0, u0)\n",
    "\n",
    "if userinput1 == 0:\n",
    "    if userinput2 == 0:\n",
    "        x, y = makeHist(u0, u0bin, Pu0)\n",
    "        txtx, txty = u0, Pu0\n",
    "    elif userinput2 == 1:\n",
    "        x, y = makeHist(R0, R0bin, PR0)\n",
    "        txtx, txty = R0, PR0\n",
    "elif userinput1 == 1:\n",
    "    x, y = makeHist(tau, taubin, Ptau)\n",
    "    txtx, txty = tau, Ptau\n",
    "\n",
    "plotHist(x, y)\n",
    "writeProb(txtx, txty)\n"
   ]
  },
  {
   "cell_type": "markdown",
   "metadata": {},
   "source": [
    "added cell to plot probability distribution for sigma* in 6T model."
   ]
  },
  {
   "cell_type": "code",
   "execution_count": 10,
   "metadata": {},
   "outputs": [
    {
     "data": {
      "image/png": "[encoded data removed]",
      "text/plain": [
       "<Figure size 720x576 with 1 Axes>"
      ]
     },
     "metadata": {
      "needs_background": "light"
     },
     "output_type": "display_data"
    }
   ],
   "source": [
    "\"\"\"P_sigma = CtoP(data[:, 0])\n",
    "sigmadata = data[:, 1]\n",
    "sigma = reduceList(sigmadata)\n",
    "sigmabin = findBin(sigma)\n",
    "\n",
    "Psum_sigma = 0\n",
    "for i in range(len(sigma)):\n",
    "    Psum_sigma += sigma[i]*(sigmabin[2*i]+sigmabin[2*i+1])*P_sigma[i]\n",
    "Psigma = normalizeList(P_sigma, Psum_sigma)\n",
    "\n",
    "maxindex = Psigma.index(max(Psigma))\n",
    "\n",
    "txt = open (file+'_sigma.txt', 'w')\n",
    "for i in range(len(sigma)):\n",
    "    txt.write(str(sigma[i])+' '+str(Psigma[i])+'\\n')\n",
    "\n",
    "plt.figure(figsize = (10, 8))\n",
    "plt.xticks(fontsize = 25)\n",
    "plt.yticks(fontsize = 25)\n",
    "plt.locator_params(nbins=6)\n",
    "plt.plot(makeHist(sigma, sigmabin, Psigma)[0], makeHist(sigma, sigmabin, Psigma)[1], color = 'k', linewidth = 2)\n",
    "plt.xlabel(r'$\\Sigma_\\star$', fontsize = 27.5)\n",
    "plt.ylabel(r'$P/\\Sigma_\\star$', fontsize = 27.5)\n",
    "plt.figtext(0.15,0.83, 'ObsID: 640', fontsize = 23)\n",
    "plt.figtext(0.15,0.75, r'max %s = %.3f' % (r'$\\Sigma_\\star$', sigma[maxindex]), fontsize = 23)\n",
    "plt.savefig('%s.png' % (file))\"\"\""
   ]
  },
  {
   "cell_type": "code",
   "execution_count": null,
   "metadata": {},
   "outputs": [],
   "source": []
  },
  {
   "cell_type": "code",
   "execution_count": null,
   "metadata": {},
   "outputs": [],
   "source": []
  },
  {
   "cell_type": "code",
   "execution_count": null,
   "metadata": {},
   "outputs": [],
   "source": []
  }
 ],
 "metadata": {
  "kernelspec": {
   "display_name": "Python 3",
   "language": "python",
   "name": "python3"
  },
  "language_info": {
   "codemirror_mode": {
    "name": "ipython",
    "version": 3
   },
   "file_extension": ".py",
   "mimetype": "text/x-python",
   "name": "python",
   "nbconvert_exporter": "python",
   "pygments_lexer": "ipython3",
   "version": "3.8.3"
  }
 },
 "nbformat": 4,
 "nbformat_minor": 2
}
