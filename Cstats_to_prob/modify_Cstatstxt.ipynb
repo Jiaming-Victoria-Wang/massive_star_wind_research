{
 "cells": [
  {
   "cell_type": "code",
   "execution_count": 3,
   "metadata": {},
   "outputs": [],
   "source": [
    "import numpy as np\n",
    "import matplotlib.pyplot as plt\n",
    "from scipy import interpolate\n",
    "\n",
    "txt = 'zpup_windprof_cstat.txt'\n",
    "data = np.genfromtxt(txt)\n",
    "\n",
    "def writeProb(txt, data):\n",
    "    \"\"\"takes a txt file and delete useless columns.\"\"\"\n",
    "    if len(data[0]) == 3:\n",
    "        return\n",
    "    outputtxt = open(txt, 'w')\n",
    "    for i in range(len(data)):\n",
    "        outputtxt.write(str(data[i][0]) + ' ' + str(data[i][3]) + ' ' + str(data[i][5]) + '\\n')\n",
    "        \n",
    "writeProb(txt, data)"
   ]
  },
  {
   "cell_type": "code",
   "execution_count": null,
   "metadata": {},
   "outputs": [],
   "source": []
  },
  {
   "cell_type": "code",
   "execution_count": null,
   "metadata": {},
   "outputs": [],
   "source": []
  }
 ],
 "metadata": {
  "kernelspec": {
   "display_name": "Python 3",
   "language": "python",
   "name": "python3"
  },
  "language_info": {
   "codemirror_mode": {
    "name": "ipython",
    "version": 3
   },
   "file_extension": ".py",
   "mimetype": "text/x-python",
   "name": "python",
   "nbconvert_exporter": "python",
   "pygments_lexer": "ipython3",
   "version": "3.8.3"
  }
 },
 "nbformat": 4,
 "nbformat_minor": 2
}
