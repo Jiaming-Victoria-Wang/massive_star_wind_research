{
 "cells": [
  {
   "cell_type": "markdown",
   "metadata": {},
   "source": [
    "importing libraries"
   ]
  },
  {
   "cell_type": "code",
   "execution_count": 1,
   "metadata": {},
   "outputs": [],
   "source": [
    "import numpy as np\n",
    "import matplotlib\n",
    "import matplotlib.pyplot as plt\n",
    "from scipy import interpolate"
   ]
  },
  {
   "cell_type": "markdown",
   "metadata": {},
   "source": [
    "specifying Times New Roman font and to force that within plotting commands"
   ]
  },
  {
   "cell_type": "code",
   "execution_count": 2,
   "metadata": {},
   "outputs": [],
   "source": [
    "tnr = \"Times New Roman\"\n",
    "plt.rcParams['font.sans-serif'] = tnr\n",
    "plt.rcParams['font.family'] = tnr\n",
    "params ={'mathtext.default':'regular'}          \n",
    "plt.rcParams.update(params)"
   ]
  },
  {
   "cell_type": "markdown",
   "metadata": {},
   "source": [
    "uploading files with data to be plotted"
   ]
  },
  {
   "cell_type": "code",
   "execution_count": 3,
   "metadata": {
    "scrolled": false
   },
   "outputs": [],
   "source": [
    "ObsID = 'cycle19'\n",
    "ObsID_print = 'Cycle 19'\n",
    "lines = [\"SXV\", \"SiXIV\", \"SiXIII\", \"MgXII\", \"MgXI\", \"NeX_10.24\", \"NeIX\", \"NeX_12.13\", \"FeXVII_15.01\", \"FeXVII_16.78\"]\n",
    "wavelengths = [5.039, 6.182, 6.648, 8.421, 9.169, 10.239, 11.544, 12.134, 15.014, 16.780]\n",
    "opacity_data = np.genfromtxt('kappaZ.txt')[4000:25000]"
   ]
  },
  {
   "cell_type": "markdown",
   "metadata": {},
   "source": [
    "defining constants and print labels"
   ]
  },
  {
   "cell_type": "code",
   "execution_count": 4,
   "metadata": {},
   "outputs": [],
   "source": [
    "terminalv = 2.25e6  # in m/s\n",
    "Rstar = 18.9*6.95e8  # in m\n",
    "Msun = 1.989e30  # in kg\n",
    "yr = 3.154e7 # seconds/yr\n",
    "\n",
    "param_name = r'$\\tau_{\\star}$'\n",
    "confidence_range = '68'"
   ]
  },
  {
   "cell_type": "markdown",
   "metadata": {},
   "source": [
    "functions"
   ]
  },
  {
   "cell_type": "code",
   "execution_count": 5,
   "metadata": {
    "scrolled": false
   },
   "outputs": [],
   "source": [
    "def editKappa():\n",
    "    \"\"\"returns op_wavelength: all wavelengths in kappaZ.txt in Å, \n",
    "    opacity: all kappa values in kappaZ.txt in Å in SI units, \n",
    "    and op_10: 10 kappa values for the 10 studied lines in SI units\"\"\"\n",
    "    op_wavelength = 12.408/opacity_data[:, 0]  # input energy data in keV, 12.408 = h*c*(10^{10})/(1.602*10^{-16}), converted to wavelength in Å\n",
    "    opacity = opacity_data[:, 1]*0.1  # input kappa in cm^2/g, converted to m^2/kg\n",
    "    op_10 = []\n",
    "    for i in range(0, len(wavelengths)):\n",
    "        for j in range(0, len(op_wavelength)-1):\n",
    "            if np.abs(wavelengths[i]-op_wavelength[j]) < np.abs(wavelengths[i]-op_wavelength[j+1]):\n",
    "                op_10.append(opacity[j])\n",
    "                break\n",
    "    op_10 = np.asarray(op_10)\n",
    "    return op_wavelength, opacity, op_10\n",
    "    \n",
    "def MdotModeling(Mdot, op):\n",
    "    \"\"\"takes a Mdot parameter value and a list of opacity values, returns a list of taustar values.\"\"\"\n",
    "    model = op*Mdot*(Msun/yr)/(4*np.pi*Rstar*terminalv)\n",
    "    return model\n",
    "\n",
    "def tauModeling(tau, lerr, uerr, op):\n",
    "    \"\"\"takes a list of tau parameter values with errors and a list of opacity values, returns a list of Mdot values.\"\"\"\n",
    "    assert(len(tau) == len(lerr))\n",
    "    assert(len(tau) == len(uerr))\n",
    "    assert(len(tau) == len(op))\n",
    "    Mdot = []\n",
    "    Mdot_lerr = []\n",
    "    Mdot_uerr = []\n",
    "    for i in range(len(tau)):\n",
    "        Mdot.append((tau[i]*4*np.pi*terminalv*Rstar/op[i])/Msun*yr)\n",
    "        Mdot_lerr.append((lerr[i]*4*np.pi*terminalv*Rstar/op[i])/Msun*yr)\n",
    "        Mdot_uerr.append((uerr[i]*4*np.pi*terminalv*Rstar/op[i])/Msun*yr)\n",
    "    return Mdot, Mdot_lerr, Mdot_uerr\n",
    "\n",
    "def probInfo():\n",
    "    \"\"\"returns data: 10 lines probability distribution in 3d array,\n",
    "    maxtaus: a list of 10 most probable taustar values for each of the 10 lines.\"\"\"\n",
    "    data = []\n",
    "    maxtaus = []\n",
    "    for i in lines:\n",
    "        linedata = np.genfromtxt(i+'_Cstats_tau.txt')\n",
    "        x = linedata[:, 0]\n",
    "        y = linedata[:, 1]\n",
    "        maxtau = x[list(y).index(max(y))]\n",
    "        data.append(linedata)\n",
    "        maxtaus.append(maxtau)\n",
    "    return data, maxtaus\n",
    "\n",
    "def makeHist(x, y):\n",
    "    \"\"\"takes a list of evenly spaced x values and a list of y values and makes two lists for plotting normalized histogram.\"\"\"\n",
    "    assert(np.abs((x[1]-x[0])-(x[-1]-x[-2])) <= 1.e-3)\n",
    "    xbin = np.abs((x[1]-x[0])/2) # notice this is the half bin width\n",
    "    xvalues = []\n",
    "    yvalues = []\n",
    "    sum_under_curve = 0\n",
    "    for i in range(len(x)):\n",
    "        xvalues.append(x[i]-xbin)\n",
    "        xvalues.append(x[i]+xbin)\n",
    "        yvalues.append(y[i])\n",
    "        yvalues.append(y[i])\n",
    "        sum_under_curve += y[i]*xbin*2\n",
    "    yvalues = yvalues/sum_under_curve    \n",
    "    return xvalues, yvalues\n",
    "\n",
    "\n",
    "\"\"\"\n",
    "def findErr(line, a, amax):\n",
    "    '''takes a 2D array a with specific distribution and perform Monte Carlo simulation, then find 68% confidence region,\n",
    "    a is the 2d array, where the first column is x, second column is y,\n",
    "    amax is the point the uncertainty region is evaluated around, which is either max(a_y), or an user defined point.'''\n",
    "    '''line is a list with name of line and line wavelength, only used to be printed on plots.'''\n",
    "    x = a[:, 0]\n",
    "    y = a[:, 1]\n",
    "    sample_size = int(4.e5)\n",
    "    err_size = int(sample_size*0.68)\n",
    "    sample = []\n",
    "    for i in range(sample_size):\n",
    "        tf = True\n",
    "        while tf == True:\n",
    "            x_sample = np.random.rand(1)[0]*(np.max(x)-np.min(x))+np.min(x)\n",
    "            P_sample = np.random.rand(1)[0]*np.max(y)\n",
    "            P_x = np.interp(x_sample, x, y, left=0, right=0)\n",
    "            if P_sample <= P_x:\n",
    "                sample.append(x_sample)\n",
    "                tf = False\n",
    "    sample = np.array(np.sort(sample))\n",
    "    lower_sample = []\n",
    "    upper_sample = []\n",
    "    for i in sample:\n",
    "        if i < amax:\n",
    "            lower_sample.append(i)\n",
    "        else:\n",
    "            upper_sample.append(i)\n",
    "    if len(lower_sample) <= err_size/2:\n",
    "        lerr = 0\n",
    "        uerr = sample[err_size]\n",
    "    else:\n",
    "        lerr = lower_sample[-int(err_size/2)-1]\n",
    "        uerr = upper_sample[int(err_size/2)]\n",
    "    assert(len(upper_sample) > err_size/2) # if assertion fails, probability distribution should be reevaluated using steppar\n",
    "    \n",
    "    number_of_included_points = 0\n",
    "    for i in sample:\n",
    "        if i > lerr and i < uerr:\n",
    "            number_of_included_points += 1\n",
    "    assert(number_of_included_points == err_size)\n",
    "    \n",
    "    plt.figure(figsize = (20, 2))\n",
    "    plt.ylim(bottom = 0, top = 2)\n",
    "    plt.xticks(fontsize = 20)\n",
    "    plt.yticks(fontsize = 20)\n",
    "    plt.title(\"sample points distribution\", fontsize = 20)\n",
    "    plt.plot(sample, np.repeat(1, sample_size), \"o\", markersize = 0.2, color = \"k\")\n",
    "    plt.plot([lerr, uerr], np.repeat(1, 2), \"o\", markersize = 5, color = \"royalblue\")\n",
    "    plt.plot(amax, 1, \"o\", markersize = 5, color = \"lightcoral\")\n",
    "    plt.show\n",
    "    \n",
    "    plt.figure(figsize = (5, 4))\n",
    "    plt.ylim(bottom = -0.05, top = np.max(y)*1.05)\n",
    "    plt.xlabel(\"tau\", fontsize = 20)\n",
    "    plt.ylabel(\"P/tau\", fontsize = 20)\n",
    "    plt.xticks(fontsize = 20)\n",
    "    plt.yticks(fontsize = 20)\n",
    "    plt.plot(x, y, color = \"k\", linewidth = 1)\n",
    "    plt.plot([lerr, uerr], np.interp([lerr, uerr], x, y, left=0, right=0), \"o\", markersize = 5, color = \"royalblue\")\n",
    "    plt.plot(amax, np.interp(amax, x, y, left=0, right=0), \"o\", markersize = 5, color = \"lightcoral\")\n",
    "    plt.vlines(amax, ymin = -1, ymax = np.interp(amax, x, y, left=0, right=0), color = 'lightcoral', linestyle = '--', linewidth = 1)\n",
    "    plt.vlines([lerr, uerr], ymin = -1, ymax = np.interp([lerr, uerr], x, y, left=0, right=0), color = 'royalblue', linestyle = '--', linewidth = 1)\n",
    "    plt.figtext(0.45, 0.77, r'$\\lambda$ = '+str(line[1])+' Å '+(line[0].split(\"_\"))[0], fontsize = 18)\n",
    "    plt.figtext(0.45, 0.64, r\"$\\tau_{\\star} = %.2f _{-%.2f}^{+%.2f}$\" % (amax, amax-lerr, uerr-amax), fontsize = 18)\n",
    "    plt.show()\n",
    "    \n",
    "    return amax-lerr, uerr-amax\n",
    "\"\"\"\n",
    "\n",
    "def find68fErr(x, y):\n",
    "    \"\"\"takes a unnormalized distribution (two lists) and finds the 68% confidence region around the maximum, \n",
    "    returns mode, median, and two error bounds.\"\"\"\n",
    "    assert(np.abs((x[1]-x[0])-(x[-1]-x[-2])) <= 1.e-3)\n",
    "    xbin = np.abs((x[1]-x[0])) # notice this is the full bin width\n",
    "    # normalizing the distribution:\n",
    "    sum_under_curve = 0\n",
    "    for i in y:\n",
    "        sum_under_curve += i*xbin\n",
    "    y = list(y/sum_under_curve)\n",
    "    # finding median and compare with mode:\n",
    "    median_index = 0\n",
    "    median_prob = xbin*y[median_index]\n",
    "    while median_prob < 0.5:\n",
    "        median_index += 1\n",
    "        median_prob += xbin*y[median_index]\n",
    "    median = x[median_index]\n",
    "    mode_index = y.index(max(y))\n",
    "    mode = x[mode_index]\n",
    "    if np.around(median, 2) == np.around(mode, 2):\n",
    "        print('median %.2f exactly the same with mode %.2f.' % (median, mode))\n",
    "    else:\n",
    "        print('different values for median %.2f and mode %.2f.' % (median, mode))\n",
    "        \n",
    "    # finding local minimums and maximums:\n",
    "    list_trend = ['start']    \n",
    "    for i in range(len(y)-1):\n",
    "        if y[i+1] <= y[i]:\n",
    "            list_trend.append('decrease')\n",
    "        else:\n",
    "            list_trend.append('increase')\n",
    "    local_max_x = [] # x coordinates of local maximums\n",
    "    local_max_y = [] # y coordinates of local maximums\n",
    "    local_min_x = [] # x coodinates of local minimums\n",
    "    local_min_y = [] # y coodinates of local minimums\n",
    "    for i in range(1, len(y)-2):\n",
    "        if list_trend[i+1] != list_trend[i]:\n",
    "            if list_trend[i] == 'increase':\n",
    "                local_max_x.append(x[i])\n",
    "                local_max_y.append(y[i])\n",
    "            elif list_trend[i] == 'decrease':\n",
    "                local_min_x.append(x[i])\n",
    "                local_min_y.append(y[i])\n",
    "                \n",
    "    # finding error bounds:\n",
    "    min_max_x = np.sort(local_max_x + local_min_x + list([x[0], x[-1]])) # sorted array of list of x coordinates of mins, maxes, and two ends of x\n",
    "    mode_pos = list(min_max_x).index(x[mode_index])\n",
    "    err_region = 0\n",
    "    pos_1 = 1\n",
    "    pos_2 = 1\n",
    "    #while np.around(err_region, 2) != 0.68:\n",
    "    while np.abs(err_region - 0.68) > 0.015:\n",
    "        index_2_start = list(x).index(min_max_x[mode_pos+pos_2-1])\n",
    "        index_2_end = list(x).index(min_max_x[mode_pos+pos_2])\n",
    "        if len(min_max_x) == 2:\n",
    "            index_1_start = 0\n",
    "            index_1_end = 1\n",
    "        else:\n",
    "            index_1_start = list(x).index(min_max_x[mode_pos-pos_1])\n",
    "            index_1_end = list(x).index(min_max_x[mode_pos-pos_1+1])\n",
    "        x_considered = x[index_1_start:index_2_end]\n",
    "        y_considered = y[index_1_start:index_2_end]\n",
    "        f_reversed_1 = interpolate.interp1d(y[index_1_start:index_1_end+1], x[index_1_start:index_1_end+1])\n",
    "        f_reversed_2 = interpolate.interp1d(y[index_2_start:index_2_end+1], x[index_2_start:index_2_end+1])\n",
    "        err_prob = np.min([np.max(y[index_1_start:index_1_end+1]), np.max(y[index_2_start:index_2_end+1])])\n",
    "        while err_region < 0.68:\n",
    "            err_region = 0\n",
    "            err_prob = err_prob - (np.max(y)-np.min(y))*1.e-4\n",
    "            if err_prob <= np.min(y[index_1_start:index_1_end+1]):\n",
    "                pos_1 += 1\n",
    "                if mode_pos-pos_1 < 0:\n",
    "                    bound_1 = np.min(x)\n",
    "                    bound_2 = f_reversed_2(err_prob)\n",
    "                else:\n",
    "                    break\n",
    "            if err_prob <= np.min(y[index_2_start:index_2_end+1]):\n",
    "                pos_2 += 1\n",
    "                if mode_pos+pos_2 > len(min_max_x)-1:\n",
    "                    bound_2 = np.max(x)\n",
    "                    bound_1 = f_reversed_1(err_prob)\n",
    "                else:\n",
    "                    break\n",
    "            if (err_prob > np.min(y[index_2_start:index_2_end+1])) and (err_prob > np.min(y[index_1_start:index_1_end+1])):\n",
    "                bound_1 = f_reversed_1(err_prob)\n",
    "                bound_2 = f_reversed_2(err_prob)\n",
    "            for i in range(len(x_considered)):\n",
    "                if (x_considered[i]-xbin/2 >= bound_1) and (x_considered[i]+xbin/2 <= bound_2):\n",
    "                    err_region += y_considered[i]*xbin\n",
    "                elif (x_considered[i] < x[mode_index]) and (x_considered[i]+xbin/2 > bound_1):\n",
    "                    err_region += ((x_considered[i] + xbin/2) - bound_1)*y_considered[i]\n",
    "                elif (x_considered[i] > x[mode_index]) and (x_considered[i]-xbin/2 < bound_2):\n",
    "                    err_region += (bound_2 - (x_considered[i] - xbin/2))*y_considered[i]\n",
    "            #print(err_region, bound_1, bound_2)\n",
    "    \n",
    "    lerr = bound_1\n",
    "    uerr = bound_2\n",
    "    sum_68 = 0\n",
    "    for i in range(len(x)):\n",
    "        if x[i] < uerr and x[i] > lerr:\n",
    "            sum_68 += y[i]*xbin\n",
    "    print('lerr: %.2f, uerr %.2f' % (lerr, uerr))\n",
    "    print('calculated error region: %.2f, estimated error region %.2f' % (err_region, sum_68))\n",
    "    \n",
    "    #xvalues, yvalues = makeHist(x, y)\n",
    "    #plt.xlim(left = -0.1, right = np.max(x)*1.05)\n",
    "    #plt.plot(xvalues, yvalues, markersize = '1', color = 'k')\n",
    "    #plt.plot(median, y[median_index], 'o')\n",
    "    #plt.plot(mode, y[mode_index], 'o')\n",
    "    #plt.vlines([lerr, uerr], ymin = -0.01, ymax = np.max(y)*1.05, linestyle = '--', linewidth = 1)\n",
    "    #plt.hlines(err_prob, xmin = -0.1, xmax = np.max(x)*1.05, linestyle = '--', linewidth = 1)\n",
    "    #plt.show()\n",
    "    \n",
    "    xvalues, yvalues = makeHist(x, y)\n",
    "    plt.figure(figsize = (5, 4))\n",
    "    plt.xlabel('$x$', fontsize = 27.5*0.5)\n",
    "    plt.ylabel(r'$P_x$', fontsize = 27.5*0.5)\n",
    "    plt.xlim(left = -0.1, right = np.max(x)*1.05)\n",
    "    plt.ylim(bottom = 0, top = max(yvalues)*1.05)\n",
    "    plt.locator_params(nbins = 6)\n",
    "    plt.xticks(fontsize = 25*0.5)\n",
    "    plt.yticks(fontsize = 25*0.5)\n",
    "    plt.plot(median, y[median_index], 'o', color = 'green')\n",
    "    plt.plot(mode, y[mode_index], 'o', color = 'red')\n",
    "    plt.vlines([lerr, uerr], ymin = -0.01, ymax = np.max(y)*1.05, linestyle = '--', linewidth = 1)\n",
    "    plt.hlines(err_prob, xmin = -0.1, xmax = np.max(x)*1.05, linestyle = '--', linewidth = 1)\n",
    "    plt.plot(xvalues, yvalues, markersize = '1', color = 'k')\n",
    "    #plt.yscale('log')\n",
    "    plt.vlines([lerr, uerr], ymin = -0.01, ymax = np.max(y)*1.05, linestyle = '--', linewidth = 1)\n",
    "    plt.show()\n",
    "    \n",
    "    return mode, median, lerr, uerr\n",
    "\n",
    "def printX(bestfit, lerr, uerr):\n",
    "    \"\"\"returns a string of printed Mdot on the plot in preferred format.\"\"\"\n",
    "    i = 0\n",
    "    while True:\n",
    "        if bestfit/(10**i) <= 10 and bestfit/(10**i) >= 1:\n",
    "            break\n",
    "        else:\n",
    "            if bestfit/(10**i) > 10:\n",
    "                i += 1\n",
    "            if bestfit/(10**i) < 1:\n",
    "                i -= 1\n",
    "    if i <= 2 and i >= -2:\n",
    "        return r'$\\dot{M}_{%d}$ = $%.2f_{-%.2f}^{+%.2f}$' % (i, bestfit, lerr, uerr)\n",
    "    else:\n",
    "        return r'$\\dot{M}_{%d}$ = $%.2f_{-%.2f}^{+%.2f}$' % (i, bestfit*(10**-i), lerr*(10**-i), uerr*(10**-i))"
   ]
  },
  {
   "cell_type": "markdown",
   "metadata": {},
   "source": [
    "finding unertainty regions for each of the 10 lines\n",
    "\n",
    "requires very long time to run, usually running once is enough"
   ]
  },
  {
   "cell_type": "code",
   "execution_count": 6,
   "metadata": {
    "scrolled": false
   },
   "outputs": [
    {
     "name": "stdout",
     "output_type": "stream",
     "text": [
      "line: SXV\n",
      "different values for median 0.16 and mode 0.13.\n",
      "lerr: 0.05, uerr 0.24\n",
      "calculated error region: 0.68, estimated error region 0.67\n"
     ]
    },
    {
     "data": {
      "image/png": "[encoded data removed]",
      "text/plain": [
       "<Figure size 360x288 with 1 Axes>"
      ]
     },
     "metadata": {
      "needs_background": "light"
     },
     "output_type": "display_data"
    },
    {
     "name": "stdout",
     "output_type": "stream",
     "text": [
      "\n",
      "line: SiXIV\n",
      "different values for median 0.62 and mode 0.57.\n",
      "lerr: 0.41, uerr 0.77\n",
      "calculated error region: 0.68, estimated error region 0.67\n"
     ]
    },
    {
     "data": {
      "image/png": "[encoded data removed]",
      "text/plain": [
       "<Figure size 360x288 with 1 Axes>"
      ]
     },
     "metadata": {
      "needs_background": "light"
     },
     "output_type": "display_data"
    },
    {
     "name": "stdout",
     "output_type": "stream",
     "text": [
      "\n",
      "line: SiXIII\n",
      "median 0.66 exactly the same with mode 0.66.\n",
      "lerr: 0.61, uerr 0.72\n",
      "calculated error region: 0.68, estimated error region 0.68\n"
     ]
    },
    {
     "data": {
      "image/png": "[encoded data removed]",
      "text/plain": [
       "<Figure size 360x288 with 1 Axes>"
      ]
     },
     "metadata": {
      "needs_background": "light"
     },
     "output_type": "display_data"
    },
    {
     "name": "stdout",
     "output_type": "stream",
     "text": [
      "\n",
      "line: MgXII\n",
      "different values for median 1.03 and mode 1.01.\n",
      "lerr: 0.91, uerr 1.14\n",
      "calculated error region: 0.68, estimated error region 0.70\n"
     ]
    },
    {
     "data": {
      "image/png": "[encoded data removed]",
      "text/plain": [
       "<Figure size 360x288 with 1 Axes>"
      ]
     },
     "metadata": {
      "needs_background": "light"
     },
     "output_type": "display_data"
    },
    {
     "name": "stdout",
     "output_type": "stream",
     "text": [
      "\n",
      "line: MgXI\n",
      "different values for median 0.81 and mode 0.80.\n",
      "lerr: 0.74, uerr 0.88\n",
      "calculated error region: 0.68, estimated error region 0.71\n"
     ]
    },
    {
     "data": {
      "image/png": "[encoded data removed]",
      "text/plain": [
       "<Figure size 360x288 with 1 Axes>"
      ]
     },
     "metadata": {
      "needs_background": "light"
     },
     "output_type": "display_data"
    },
    {
     "name": "stdout",
     "output_type": "stream",
     "text": [
      "\n",
      "line: NeX_10.24\n",
      "different values for median 2.50 and mode 2.53.\n",
      "lerr: 2.26, uerr 2.75\n",
      "calculated error region: 0.68, estimated error region 0.68\n"
     ]
    },
    {
     "data": {
      "image/png": "[encoded data removed]",
      "text/plain": [
       "<Figure size 360x288 with 1 Axes>"
      ]
     },
     "metadata": {
      "needs_background": "light"
     },
     "output_type": "display_data"
    },
    {
     "name": "stdout",
     "output_type": "stream",
     "text": [
      "\n",
      "line: NeIX\n",
      "different values for median 1.70 and mode 1.58.\n",
      "lerr: 1.26, uerr 2.01\n",
      "calculated error region: 0.68, estimated error region 0.68\n"
     ]
    },
    {
     "data": {
      "image/png": "[encoded data removed]",
      "text/plain": [
       "<Figure size 360x288 with 1 Axes>"
      ]
     },
     "metadata": {
      "needs_background": "light"
     },
     "output_type": "display_data"
    },
    {
     "name": "stdout",
     "output_type": "stream",
     "text": [
      "\n",
      "line: NeX_12.13\n",
      "median 3.07 exactly the same with mode 3.07.\n",
      "lerr: 2.92, uerr 3.23\n",
      "calculated error region: 0.68, estimated error region 0.66\n"
     ]
    },
    {
     "data": {
      "image/png": "[encoded data removed]",
      "text/plain": [
       "<Figure size 360x288 with 1 Axes>"
      ]
     },
     "metadata": {
      "needs_background": "light"
     },
     "output_type": "display_data"
    },
    {
     "name": "stdout",
     "output_type": "stream",
     "text": [
      "\n",
      "line: FeXVII_15.01\n",
      "different values for median 2.77 and mode 3.18.\n",
      "lerr: 2.32, uerr 3.29\n",
      "calculated error region: 0.68, estimated error region 0.67\n"
     ]
    },
    {
     "data": {
      "image/png": "[encoded data removed]",
      "text/plain": [
       "<Figure size 360x288 with 1 Axes>"
      ]
     },
     "metadata": {
      "needs_background": "light"
     },
     "output_type": "display_data"
    },
    {
     "name": "stdout",
     "output_type": "stream",
     "text": [
      "\n",
      "line: FeXVII_16.78\n",
      "different values for median 4.12 and mode 4.01.\n",
      "lerr: 3.34, uerr 4.71\n",
      "calculated error region: 0.68, estimated error region 0.68\n"
     ]
    },
    {
     "data": {
      "image/png": "[encoded data removed]",
      "text/plain": [
       "<Figure size 360x288 with 1 Axes>"
      ]
     },
     "metadata": {
      "needs_background": "light"
     },
     "output_type": "display_data"
    },
    {
     "name": "stdout",
     "output_type": "stream",
     "text": [
      "\n"
     ]
    }
   ],
   "source": [
    "\"\"\"\n",
    "data, maxtaus = probInfo()\n",
    "\n",
    "lerr = []\n",
    "uerr = []\n",
    "for i in range(len(data)):\n",
    "    line = [lines[i], wavelengths[i]]\n",
    "    line_lerr, line_uerr = findErr(line, data[i], maxtaus[i])\n",
    "    lerr.append(line_lerr)\n",
    "    uerr.append(line_uerr)\n",
    "\"\"\"\n",
    "data, maxtaus = probInfo()\n",
    "\n",
    "lerr = []\n",
    "uerr = []\n",
    "mode = []\n",
    "median = []\n",
    "for i in range(0, len(data)):\n",
    "    print(\"line: %s\" % lines[i])\n",
    "    line_mode, line_median, line_lerr, line_uerr = find68Err(data[i][:, 0], data[i][:, 1])\n",
    "    lerr.append(line_lerr)\n",
    "    uerr.append(line_uerr)\n",
    "    mode.append(line_mode)\n",
    "    median.append(line_median)\n",
    "    print()"
   ]
  },
  {
   "cell_type": "markdown",
   "metadata": {},
   "source": [
    "writing the lower and upper lerror of all lines into a txt file\n",
    "\n",
    "returning a message if a change is made to the previous file, in which case the findErr fnuction isn't universal and needs modification."
   ]
  },
  {
   "cell_type": "code",
   "execution_count": 7,
   "metadata": {},
   "outputs": [],
   "source": [
    "def writeErr(maxes, lerr, uerr):\n",
    "    \"\"\"writes a txt file with wavelength in the first column, \n",
    "    taustar in the second, \n",
    "    lerr in the third, and \n",
    "    uerr in the fourth.\"\"\"\n",
    "    txt = 'massloss_errors.txt'\n",
    "    data = np.genfromtxt(txt)\n",
    "    outputtxt = open(txt, 'w')\n",
    "    for i in range(0, len(data)):\n",
    "        linemax = np.around(maxes[i], 2)\n",
    "        linelerr = np.around(maxes[i] - lerr[i], 2)\n",
    "        lineuerr = np.around(uerr[i] - maxes[i], 2)\n",
    "        if linelerr != data[i][2] or lineuerr != data[i][3]:\n",
    "            print(\"new uncertainty region is found in %f Å\" % data[i][0])\n",
    "            if linelerr != data[i][2]:\n",
    "                print(\"lower error is changed from %f to %f\" % (data[i][2], linelerr))\n",
    "            if lineuerr != data[i][3]:\n",
    "                print(\"upper error is changed from %f to %f\" % (data[i][3], lineuerr))\n",
    "        outputtxt.write(str(data[i][0])+' '+str(linemax)+' '+str(linelerr)+' '+str(lineuerr)+'\\n')\n",
    "    return\n",
    "\n",
    "#writeErr(maxtaus, lerr, uerr)"
   ]
  },
  {
   "cell_type": "markdown",
   "metadata": {},
   "source": [
    "finding the best-fit Mdot model by maxtau probability distribution (used)"
   ]
  },
  {
   "cell_type": "code",
   "execution_count": 8,
   "metadata": {
    "scrolled": true
   },
   "outputs": [
    {
     "name": "stdout",
     "output_type": "stream",
     "text": [
      "median 0.00 exactly the same with mode 0.00.\n",
      "lerr: 0.00, uerr 0.00\n",
      "calculated error region: 0.68, estimated error region 0.68\n"
     ]
    },
    {
     "data": {
      "image/png": "[encoded data removed]",
      "text/plain": [
       "<Figure size 360x288 with 1 Axes>"
      ]
     },
     "metadata": {
      "needs_background": "light"
     },
     "output_type": "display_data"
    }
   ],
   "source": [
    "def findProb(model, data):\n",
    "    \"\"\"model is a list of 10 taustars on a specific Mdot value\"\"\"\n",
    "    \"\"\"find the probability of the Mdot model for each of the 10 lines, and return the total probability\"\"\"\n",
    "    assert(len(model) == len(data))\n",
    "    likelihood = 1\n",
    "    for i in range(len(model)):\n",
    "        x = list(data[i][:, 0])\n",
    "        y = list(data[i][:, 1])\n",
    "        if model[i] <= x[0]:\n",
    "            modeltauprob = y[0]\n",
    "        elif model[i] >= x[-1]:\n",
    "            modeltauprob = y[-1]\n",
    "        else:\n",
    "            f = interpolate.interp1d(x, y)\n",
    "            modeltauprob = f(model[i])\n",
    "        likelihood = likelihood*modeltauprob\n",
    "    return likelihood\n",
    "\n",
    "def findBestFit(op_10, maxtaus, data):\n",
    "    \"\"\"takes op_10 for modeling each Mdot into tau vs wavelength, finds the best fit,\n",
    "    returns unnormalized Mdot probability distribution and the best fit.\"\"\"\n",
    "    n = 10000\n",
    "    fit_predictedmax = 3.00*(10**(-6))\n",
    "    fit_predictedmin = 1.25*(10**(-6))\n",
    "    a = np.linspace(fit_predictedmin, fit_predictedmax, n)\n",
    "    likelihood_list = []\n",
    "    for i in a:\n",
    "        fitmodel_10 = MdotModeling(i, op_10)\n",
    "        likelihood = findProb(fitmodel_10, data)\n",
    "        likelihood_list.append(likelihood)\n",
    "    bestfit = a[likelihood_list.index(max(likelihood_list))]\n",
    "    return a, likelihood_list, bestfit\n",
    "\n",
    "op_wavelength, opacity, op_10 = editKappa()\n",
    "Mdot_vals, likelihood_vals, bestfit = findBestFit(op_10, maxtaus, data) # likelihood_vals not yet normalized.\n",
    "bestfit, bestfit_median, bestfit_lerr, bestfit_uerr = find68Err(Mdot_vals, likelihood_vals)\n",
    "Mdotmodel = MdotModeling(bestfit, opacity)\n",
    "Mdotmodel_10 = MdotModeling(bestfit, op_10)\n",
    "Mdotmodel_lerr = MdotModeling(bestfit_lerr, opacity)\n",
    "Mdotmodel_uerr = MdotModeling(bestfit_uerr, opacity)\n",
    "model_print = printX(bestfit, bestfit-bestfit_lerr, bestfit_uerr-bestfit)\n",
    "Mdot_histvals, likelihood_histvals = makeHist(Mdot_vals, likelihood_vals)"
   ]
  },
  {
   "cell_type": "code",
   "execution_count": 9,
   "metadata": {},
   "outputs": [],
   "source": [
    "def writeProb(x, y):\n",
    "    txt = open('%s_mass_loss_pdf.txt' % ObsID, 'w')\n",
    "    for i in range(len(x)):\n",
    "        txt.write(str(x[i])+' '+str(y[i])+'\\n')\n",
    "\n",
    "writeProb(Mdot_vals, likelihood_vals)"
   ]
  },
  {
   "cell_type": "code",
   "execution_count": 10,
   "metadata": {},
   "outputs": [
    {
     "data": {
      "image/png": "[encoded data removed]",
      "text/plain": [
       "<Figure size 720x576 with 1 Axes>"
      ]
     },
     "metadata": {
      "needs_background": "light"
     },
     "output_type": "display_data"
    }
   ],
   "source": [
    "# plotting\n",
    "plt.figure(figsize = (10, 8))\n",
    "plt.xlabel('Wavelength (Å)', fontsize = 30)\n",
    "plt.ylabel(param_name, fontsize = 30)\n",
    "plt.xticks(fontsize = 25)\n",
    "plt.yticks(fontsize = 25)\n",
    "plt.locator_params(nbins = 4)\n",
    "plt.ylim(bottom = 0, top = 5)\n",
    "plt.xlim(left = 4, right = 18)\n",
    "plt.plot(wavelengths, mode, \"o\", color = 'black', markersize = 5, label = 'mode')\n",
    "plt.plot(wavelengths, median, \"o\", color = 'black', markersize = 5, mfc = 'none', label = 'median')\n",
    "plt.errorbar(wavelengths, mode, yerr = [np.array(mode)-np.array(lerr), np.array(uerr)-np.array(mode)], ls = 'none', color = 'black', linewidth = 0.75, capsize = 2., capthick = 1.25)\n",
    "plt.plot(op_wavelength, Mdotmodel_lerr, color = 'lightgrey', linestyle = '-', linewidth = 0.5)\n",
    "plt.plot(op_wavelength, Mdotmodel_uerr, color = 'lightgrey', linestyle = '-', linewidth = 0.5)\n",
    "plt.fill_between(op_wavelength, Mdotmodel_lerr, Mdotmodel_uerr, color = 'lightgrey', alpha = 0.5)\n",
    "plt.plot(op_wavelength, Mdotmodel, color = 'lightcoral', linestyle = '-', linewidth = 2)\n",
    "plt.figtext(0.15, 0.81, '%s' % str(ObsID_print), fontsize = 27.5)\n",
    "plt.figtext(0.15, 0.73, model_print, fontsize = 27.5)\n",
    "plt.legend(loc = \"lower right\", fontsize = 25)\n",
    "#plt.savefig('taustar_vs_wavelength.png', bbox_inches = 'tight')\n",
    "plt.show()"
   ]
  },
  {
   "cell_type": "code",
   "execution_count": 11,
   "metadata": {
    "scrolled": false
   },
   "outputs": [
    {
     "ename": "OSError",
     "evalue": "cycle1_mass_loss_pdf.txt not found.",
     "output_type": "error",
     "traceback": [
      "\u001b[0;31m---------------------------------------------------------------------------\u001b[0m",
      "\u001b[0;31mOSError\u001b[0m                                   Traceback (most recent call last)",
      "\u001b[0;32m<ipython-input-11-7f901587a980>\u001b[0m in \u001b[0;36m<module>\u001b[0;34m\u001b[0m\n\u001b[1;32m      1\u001b[0m \u001b[0;32mif\u001b[0m \u001b[0mObsID\u001b[0m \u001b[0;34m==\u001b[0m \u001b[0;34m'cycle19'\u001b[0m\u001b[0;34m:\u001b[0m\u001b[0;34m\u001b[0m\u001b[0;34m\u001b[0m\u001b[0m\n\u001b[0;32m----> 2\u001b[0;31m     \u001b[0mmlpd\u001b[0m \u001b[0;34m=\u001b[0m \u001b[0mnp\u001b[0m\u001b[0;34m.\u001b[0m\u001b[0mgenfromtxt\u001b[0m\u001b[0;34m(\u001b[0m\u001b[0;34m'cycle1_mass_loss_pdf.txt'\u001b[0m\u001b[0;34m)\u001b[0m\u001b[0;34m\u001b[0m\u001b[0;34m\u001b[0m\u001b[0m\n\u001b[0m\u001b[1;32m      3\u001b[0m \u001b[0;32melif\u001b[0m \u001b[0mObsID\u001b[0m \u001b[0;34m==\u001b[0m \u001b[0;34m'cycle1'\u001b[0m\u001b[0;34m:\u001b[0m\u001b[0;34m\u001b[0m\u001b[0;34m\u001b[0m\u001b[0m\n\u001b[1;32m      4\u001b[0m     \u001b[0mmlpd\u001b[0m \u001b[0;34m=\u001b[0m \u001b[0mnp\u001b[0m\u001b[0;34m.\u001b[0m\u001b[0mgenfromtxt\u001b[0m\u001b[0;34m(\u001b[0m\u001b[0;34m'cycle19_mass_loss_pdf.txt'\u001b[0m\u001b[0;34m)\u001b[0m\u001b[0;34m\u001b[0m\u001b[0;34m\u001b[0m\u001b[0m\n\u001b[1;32m      5\u001b[0m \u001b[0mmlpd_x\u001b[0m \u001b[0;34m=\u001b[0m \u001b[0mmlpd\u001b[0m\u001b[0;34m[\u001b[0m\u001b[0;34m:\u001b[0m\u001b[0;34m,\u001b[0m \u001b[0;36m0\u001b[0m\u001b[0;34m]\u001b[0m\u001b[0;34m\u001b[0m\u001b[0;34m\u001b[0m\u001b[0m\n",
      "\u001b[0;32m/opt/anaconda3/lib/python3.8/site-packages/numpy/lib/npyio.py\u001b[0m in \u001b[0;36mgenfromtxt\u001b[0;34m(fname, dtype, comments, delimiter, skip_header, skip_footer, converters, missing_values, filling_values, usecols, names, excludelist, deletechars, replace_space, autostrip, case_sensitive, defaultfmt, unpack, usemask, loose, invalid_raise, max_rows, encoding)\u001b[0m\n\u001b[1;32m   1770\u001b[0m             \u001b[0mfname\u001b[0m \u001b[0;34m=\u001b[0m \u001b[0mos_fspath\u001b[0m\u001b[0;34m(\u001b[0m\u001b[0mfname\u001b[0m\u001b[0;34m)\u001b[0m\u001b[0;34m\u001b[0m\u001b[0;34m\u001b[0m\u001b[0m\n\u001b[1;32m   1771\u001b[0m         \u001b[0;32mif\u001b[0m \u001b[0misinstance\u001b[0m\u001b[0;34m(\u001b[0m\u001b[0mfname\u001b[0m\u001b[0;34m,\u001b[0m \u001b[0mbasestring\u001b[0m\u001b[0;34m)\u001b[0m\u001b[0;34m:\u001b[0m\u001b[0;34m\u001b[0m\u001b[0;34m\u001b[0m\u001b[0m\n\u001b[0;32m-> 1772\u001b[0;31m             \u001b[0mfid\u001b[0m \u001b[0;34m=\u001b[0m \u001b[0mnp\u001b[0m\u001b[0;34m.\u001b[0m\u001b[0mlib\u001b[0m\u001b[0;34m.\u001b[0m\u001b[0m_datasource\u001b[0m\u001b[0;34m.\u001b[0m\u001b[0mopen\u001b[0m\u001b[0;34m(\u001b[0m\u001b[0mfname\u001b[0m\u001b[0;34m,\u001b[0m \u001b[0;34m'rt'\u001b[0m\u001b[0;34m,\u001b[0m \u001b[0mencoding\u001b[0m\u001b[0;34m=\u001b[0m\u001b[0mencoding\u001b[0m\u001b[0;34m)\u001b[0m\u001b[0;34m\u001b[0m\u001b[0;34m\u001b[0m\u001b[0m\n\u001b[0m\u001b[1;32m   1773\u001b[0m             \u001b[0mfid_ctx\u001b[0m \u001b[0;34m=\u001b[0m \u001b[0mcontextlib\u001b[0m\u001b[0;34m.\u001b[0m\u001b[0mclosing\u001b[0m\u001b[0;34m(\u001b[0m\u001b[0mfid\u001b[0m\u001b[0;34m)\u001b[0m\u001b[0;34m\u001b[0m\u001b[0;34m\u001b[0m\u001b[0m\n\u001b[1;32m   1774\u001b[0m         \u001b[0;32melse\u001b[0m\u001b[0;34m:\u001b[0m\u001b[0;34m\u001b[0m\u001b[0;34m\u001b[0m\u001b[0m\n",
      "\u001b[0;32m/opt/anaconda3/lib/python3.8/site-packages/numpy/lib/_datasource.py\u001b[0m in \u001b[0;36mopen\u001b[0;34m(path, mode, destpath, encoding, newline)\u001b[0m\n\u001b[1;32m    267\u001b[0m \u001b[0;34m\u001b[0m\u001b[0m\n\u001b[1;32m    268\u001b[0m     \u001b[0mds\u001b[0m \u001b[0;34m=\u001b[0m \u001b[0mDataSource\u001b[0m\u001b[0;34m(\u001b[0m\u001b[0mdestpath\u001b[0m\u001b[0;34m)\u001b[0m\u001b[0;34m\u001b[0m\u001b[0;34m\u001b[0m\u001b[0m\n\u001b[0;32m--> 269\u001b[0;31m     \u001b[0;32mreturn\u001b[0m \u001b[0mds\u001b[0m\u001b[0;34m.\u001b[0m\u001b[0mopen\u001b[0m\u001b[0;34m(\u001b[0m\u001b[0mpath\u001b[0m\u001b[0;34m,\u001b[0m \u001b[0mmode\u001b[0m\u001b[0;34m,\u001b[0m \u001b[0mencoding\u001b[0m\u001b[0;34m=\u001b[0m\u001b[0mencoding\u001b[0m\u001b[0;34m,\u001b[0m \u001b[0mnewline\u001b[0m\u001b[0;34m=\u001b[0m\u001b[0mnewline\u001b[0m\u001b[0;34m)\u001b[0m\u001b[0;34m\u001b[0m\u001b[0;34m\u001b[0m\u001b[0m\n\u001b[0m\u001b[1;32m    270\u001b[0m \u001b[0;34m\u001b[0m\u001b[0m\n\u001b[1;32m    271\u001b[0m \u001b[0;34m\u001b[0m\u001b[0m\n",
      "\u001b[0;32m/opt/anaconda3/lib/python3.8/site-packages/numpy/lib/_datasource.py\u001b[0m in \u001b[0;36mopen\u001b[0;34m(self, path, mode, encoding, newline)\u001b[0m\n\u001b[1;32m    621\u001b[0m                                       encoding=encoding, newline=newline)\n\u001b[1;32m    622\u001b[0m         \u001b[0;32melse\u001b[0m\u001b[0;34m:\u001b[0m\u001b[0;34m\u001b[0m\u001b[0;34m\u001b[0m\u001b[0m\n\u001b[0;32m--> 623\u001b[0;31m             \u001b[0;32mraise\u001b[0m \u001b[0mIOError\u001b[0m\u001b[0;34m(\u001b[0m\u001b[0;34m\"%s not found.\"\u001b[0m \u001b[0;34m%\u001b[0m \u001b[0mpath\u001b[0m\u001b[0;34m)\u001b[0m\u001b[0;34m\u001b[0m\u001b[0;34m\u001b[0m\u001b[0m\n\u001b[0m\u001b[1;32m    624\u001b[0m \u001b[0;34m\u001b[0m\u001b[0m\n\u001b[1;32m    625\u001b[0m \u001b[0;34m\u001b[0m\u001b[0m\n",
      "\u001b[0;31mOSError\u001b[0m: cycle1_mass_loss_pdf.txt not found."
     ]
    }
   ],
   "source": [
    "if ObsID == 'cycle19':\n",
    "    mlpd = np.genfromtxt('cycle1_mass_loss_pdf.txt')\n",
    "elif ObsID == 'cycle1':\n",
    "    mlpd = np.genfromtxt('cycle19_mass_loss_pdf.txt')\n",
    "mlpd_x = mlpd[:, 0]\n",
    "mlpd_y = mlpd[:, 1]\n",
    "mlpd_hist_x, mlpd_hist_y = makeHist(mlpd_x, mlpd_y)\n",
    "    \n",
    "# plotting    \n",
    "fig = plt.figure(figsize = (10, 8))\n",
    "plt.xlabel('Wavelength (Å)', fontsize = 30)\n",
    "plt.ylabel(param_name, fontsize = 30)\n",
    "plt.xticks(fontsize = 25)\n",
    "plt.yticks(fontsize = 25)\n",
    "plt.locator_params(nbins = 4)\n",
    "plt.ylim(bottom = 0, top = 6)\n",
    "plt.xlim(left = 4, right = 18)\n",
    "\n",
    "plt.plot(op_wavelength, Mdotmodel, color = 'lightcoral', linestyle = '-', linewidth = 2)\n",
    "plt.plot(op_wavelength, Mdotmodel_lerr, color = 'lightgrey', linestyle = '-', linewidth = 0.5)\n",
    "plt.plot(op_wavelength, Mdotmodel_uerr, color = 'lightgrey', linestyle = '-', linewidth = 0.5)\n",
    "plt.fill_between(op_wavelength, Mdotmodel_lerr, Mdotmodel_uerr, color = 'lightgrey', alpha = 0.5)\n",
    "plt.plot(op_wavelength, Mdotmodel, color = 'lightcoral', linestyle = '-', linewidth = 2)\n",
    "\n",
    "for i in range(len(data)):\n",
    "    sigma_n = 5\n",
    "    sigma_l = np.array(mode)[i]-np.array(lerr)[i]\n",
    "    sigma_u = np.array(uerr)[i]-np.array(mode)[i]\n",
    "    all_y = data[i][:, 0]\n",
    "    all_x = data[i][:, 1]\n",
    "    y_plotted = []\n",
    "    x_plotted = []\n",
    "    for j in range(len(all_y)):\n",
    "        if all_y[j] >= mode[i] - sigma_n*sigma_l and all_y[j] <= mode[i] + sigma_n*sigma_u:\n",
    "            y_plotted.append(all_y[j])\n",
    "            x_plotted.append(all_x[j])\n",
    "    x_plotted = wavelengths[i] - (x_plotted/np.max(x_plotted))/2\n",
    "    plt.fill_betweenx(y_plotted, x_plotted, np.repeat(wavelengths[i], len(x_plotted)), color = \"cornflowerblue\", alpha = 0.3, label = 'probability distribution')\n",
    "plt.figtext(0.15, 0.81, '%s' % str(ObsID_print), fontsize = 27.5)\n",
    "plt.figtext(0.15, 0.73, model_print, fontsize = 27.5)\n",
    "\n",
    "ax1 = fig.add_axes([0.19, 0.59, 0.27, 0.27])\n",
    "ax1.set_xlabel(r'$\\dot{M}_{-6}$', fontsize = 16)\n",
    "ax1.set_ylabel(r'$P_{\\dot{M}}$', fontsize = 16)\n",
    "ax1.set_ylim(bottom = min(likelihood_histvals)*0.95/1.e6, top = max(list(likelihood_histvals)+list(mlpd_hist_y))*1.05/1.e6)\n",
    "ax1.locator_params(nbins = 6)\n",
    "ax1.tick_params(labelsize = 14)\n",
    "\n",
    "ax1.plot(np.array(mlpd_hist_x)*1e6, np.array(mlpd_hist_y)/1e6, color = 'grey', linestyle = '-', linewidth = 1, alpha = 0.6)\n",
    "ax1.plot(np.array(Mdot_histvals)*1.e6, likelihood_histvals/1.e6, color = 'black', linestyle = '-', linewidth = 1)\n",
    "ax1.vlines([bestfit_lerr*1.e6, bestfit_uerr*1.e6], ymin = 0, ymax = 6, color = 'grey', linestyle = '--', linewidth = 1)\n",
    "\n",
    "#plt.savefig('taustar_vs_wavelength_pd.png', bbox_inches = 'tight')\n",
    "plt.show()"
   ]
  },
  {
   "cell_type": "code",
   "execution_count": null,
   "metadata": {
    "scrolled": false
   },
   "outputs": [],
   "source": [
    "plt.figure(figsize = (10, 8))\n",
    "plt.xlabel(r'$\\dot{M}$ (E-6)', fontsize = 27.5)\n",
    "plt.ylabel(r'$P_{\\dot{M}}$', fontsize = 27.5)\n",
    "plt.ylim(bottom = min(likelihood_histvals)*0.95, top = max(likelihood_histvals)*1.05)\n",
    "plt.locator_params(nbins = 9)\n",
    "plt.xticks(fontsize = 25)\n",
    "plt.yticks(fontsize = 25)\n",
    "plt.plot(np.array(Mdot_histvals)*1.e6, likelihood_histvals, color = 'black')\n",
    "#plt.yscale('log')\n",
    "plt.vlines([bestfit_lerr*1.e6, bestfit_uerr*1.e6], ymin = 0, ymax = 5e6, color = 'grey', linestyle = '--', linewidth = 1.75)\n",
    "plt.figtext(0.15,0.83, 'ObsID: %s' % str(ObsID), fontsize = 23)\n",
    "plt.figtext(0.15,0.75, r'max '+model_print, fontsize = 23)\n",
    "#plt.savefig('massloss_prob.png', bbox_inches = 'tight')\n",
    "plt.show()"
   ]
  },
  {
   "cell_type": "code",
   "execution_count": null,
   "metadata": {},
   "outputs": [],
   "source": []
  },
  {
   "cell_type": "code",
   "execution_count": null,
   "metadata": {},
   "outputs": [],
   "source": []
  },
  {
   "cell_type": "code",
   "execution_count": null,
   "metadata": {},
   "outputs": [],
   "source": []
  }
 ],
 "metadata": {
  "kernelspec": {
   "display_name": "Python 3",
   "language": "python",
   "name": "python3"
  },
  "language_info": {
   "codemirror_mode": {
    "name": "ipython",
    "version": 3
   },
   "file_extension": ".py",
   "mimetype": "text/x-python",
   "name": "python",
   "nbconvert_exporter": "python",
   "pygments_lexer": "ipython3",
   "version": "3.8.3"
  }
 },
 "nbformat": 4,
 "nbformat_minor": 2
}
